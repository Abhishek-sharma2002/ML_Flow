{
 "cells": [
  {
   "cell_type": "code",
   "execution_count": 3,
   "metadata": {},
   "outputs": [],
   "source": [
    "import mlflow "
   ]
  },
  {
   "cell_type": "code",
   "execution_count": 4,
   "metadata": {},
   "outputs": [],
   "source": [
    "mlflow.set_tracking_uri(\"http://127.0.0.1:5000\")"
   ]
  },
  {
   "cell_type": "code",
   "execution_count": 6,
   "metadata": {},
   "outputs": [
    {
     "name": "stdout",
     "output_type": "stream",
     "text": [
      "🏃 View run clean-ant-749 at: http://127.0.0.1:5000/#/experiments/287370433365807906/runs/4f621e8c0e7443a7b3f9cf2c50008d6f\n",
      "🧪 View experiment at: http://127.0.0.1:5000/#/experiments/287370433365807906\n"
     ]
    }
   ],
   "source": [
    "mlflow.set_experiment(\"MLFlow Server connection\")\n",
    "\n",
    "with mlflow.start_run():\n",
    "    mlflow.log_metric(\"test\",100)\n",
    "    mlflow.log_metric(\"DataScience\",1500)\n"
   ]
  },
  {
   "cell_type": "code",
   "execution_count": 7,
   "metadata": {},
   "outputs": [
    {
     "name": "stdout",
     "output_type": "stream",
     "text": [
      "🏃 View run languid-carp-944 at: http://127.0.0.1:5000/#/experiments/287370433365807906/runs/d5c9eb5386cd4323a1e114da63d2fae9\n",
      "🧪 View experiment at: http://127.0.0.1:5000/#/experiments/287370433365807906\n"
     ]
    }
   ],
   "source": [
    "with mlflow.start_run():\n",
    "    mlflow.log_metric(\"accuracy\",0.98)\n",
    "    mlflow.log_metric(\"recall\",0.78)"
   ]
  },
  {
   "cell_type": "code",
   "execution_count": null,
   "metadata": {},
   "outputs": [],
   "source": []
  }
 ],
 "metadata": {
  "kernelspec": {
   "display_name": "venv-mlflow",
   "language": "python",
   "name": "python3"
  },
  "language_info": {
   "codemirror_mode": {
    "name": "ipython",
    "version": 3
   },
   "file_extension": ".py",
   "mimetype": "text/x-python",
   "name": "python",
   "nbconvert_exporter": "python",
   "pygments_lexer": "ipython3",
   "version": "3.13.1"
  }
 },
 "nbformat": 4,
 "nbformat_minor": 2
}
