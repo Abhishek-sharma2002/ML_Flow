{
 "cells": [
  {
   "cell_type": "markdown",
   "metadata": {},
   "source": [
    "# Log parameters,Metrics and Models"
   ]
  },
  {
   "cell_type": "code",
   "execution_count": 1,
   "metadata": {},
   "outputs": [],
   "source": [
    "import mlflow \n",
    "import mlflow.sklearn\n",
    "from sklearn.ensemble import RandomForestClassifier\n",
    "from sklearn.datasets import load_iris\n",
    "from sklearn.model_selection import train_test_split\n",
    "from sklearn.metrics import accuracy_score\n"
   ]
  },
  {
   "cell_type": "code",
   "execution_count": 2,
   "metadata": {},
   "outputs": [],
   "source": [
    "mlflow.set_tracking_uri(\"http://127.0.0.1:5000\")"
   ]
  },
  {
   "cell_type": "code",
   "execution_count": 3,
   "metadata": {},
   "outputs": [
    {
     "name": "stderr",
     "output_type": "stream",
     "text": [
      "2024/12/28 11:31:43 INFO mlflow.tracking.fluent: Experiment with name 'Beginner Experiment' does not exist. Creating a new experiment.\n"
     ]
    },
    {
     "data": {
      "text/plain": [
       "<Experiment: artifact_location='mlflow-artifacts:/517489694206153067', creation_time=1735365703648, experiment_id='517489694206153067', last_update_time=1735365703648, lifecycle_stage='active', name='Beginner Experiment', tags={}>"
      ]
     },
     "execution_count": 3,
     "metadata": {},
     "output_type": "execute_result"
    }
   ],
   "source": [
    "# Set expirements name\n",
    "mlflow.set_experiment(\"Beginner Experiment\")"
   ]
  },
  {
   "cell_type": "code",
   "execution_count": 4,
   "metadata": {},
   "outputs": [
    {
     "name": "stderr",
     "output_type": "stream",
     "text": [
      "2024/12/28 11:47:52 WARNING mlflow.models.model: Model logged without a signature and input example. Please set `input_example` parameter when logging the model to auto infer the model signature.\n"
     ]
    },
    {
     "name": "stdout",
     "output_type": "stream",
     "text": [
      "🏃 View run learned-duck-353 at: http://127.0.0.1:5000/#/experiments/517489694206153067/runs/dfdc77cb048a4c41b47e91b72d106b66\n",
      "🧪 View experiment at: http://127.0.0.1:5000/#/experiments/517489694206153067\n",
      "Run Logged successfully\n"
     ]
    }
   ],
   "source": [
    "# Start mlflow run\n",
    "with mlflow.start_run():\n",
    "\n",
    "    # load data\n",
    "    data = load_iris()\n",
    "    X_train ,X_test , y_train ,y_test =train_test_split(data.data,data.target,test_size=0.2)\n",
    "\n",
    "    #Train_model\n",
    "    model = RandomForestClassifier(n_estimators=100,max_depth=3,random_state=42)\n",
    "    model.fit(X_train,y_train)\n",
    "\n",
    "    # log parameter\n",
    "    mlflow.log_param(\"n_estimators\",100)\n",
    "    mlflow.log_param(\"max_depth\",3)\n",
    "    mlflow.log_param(\"random_state\",42)\n",
    "\n",
    "    # Evaluate the model\n",
    "    y_test_pred = model.predict(X_test)\n",
    "    accuracy = accuracy_score(y_test,y_test_pred)\n",
    "\n",
    "    # log metrics\n",
    "    mlflow.log_metric(\"accuracy\",accuracy)\n",
    "\n",
    "    # log the model\n",
    "    mlflow.sklearn.log_model(model,artifact_path=\"model\")\n",
    "print(\"Run Logged successfully\")"
   ]
  },
  {
   "cell_type": "code",
   "execution_count": null,
   "metadata": {},
   "outputs": [],
   "source": []
  }
 ],
 "metadata": {
  "kernelspec": {
   "display_name": "venv-mlflow",
   "language": "python",
   "name": "python3"
  },
  "language_info": {
   "codemirror_mode": {
    "name": "ipython",
    "version": 3
   },
   "file_extension": ".py",
   "mimetype": "text/x-python",
   "name": "python",
   "nbconvert_exporter": "python",
   "pygments_lexer": "ipython3",
   "version": "3.13.1"
  }
 },
 "nbformat": 4,
 "nbformat_minor": 2
}
